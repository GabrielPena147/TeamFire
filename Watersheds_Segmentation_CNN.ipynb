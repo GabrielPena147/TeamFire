{
 "cells": [
  {
   "cell_type": "markdown",
   "metadata": {},
   "source": [
    "# Watersheds Segmentation <a href=\"https://mybinder.org/v2/gh/InsightSoftwareConsortium/SimpleITK-Notebooks/master?filepath=Python%2F32_Watersheds_Segmentation.ipynb\"><img style=\"float: right;\" src=\"https://mybinder.org/badge_logo.svg\"></a>"
   ]
  },
  {
   "cell_type": "code",
   "execution_count": 47,
   "metadata": {},
   "outputs": [
    {
     "data": {
      "text/plain": [
       "<Figure size 432x288 with 0 Axes>"
      ]
     },
     "metadata": {},
     "output_type": "display_data"
    }
   ],
   "source": [
    "%matplotlib inline\n",
    "import matplotlib.pyplot as plt\n",
    "import SimpleITK as sitk\n",
    "from myshow import myshow, myshow3d\n",
    "import numpy as np\n",
    "\n",
    "# Download data to work on\n",
    "%run update_path_to_download_script\n",
    "from downloaddata import fetch_data as fdata\n",
    "\n",
    "import tensorflow as tf\n",
    "\n",
    "from tensorflow.keras import datasets, layers, models\n",
    "import random"
   ]
  },
  {
   "cell_type": "code",
   "execution_count": 48,
   "metadata": {},
   "outputs": [
    {
     "name": "stdout",
     "output_type": "stream",
     "text": [
      "['604.000000-COR 3X3-11320', '3.000000-0.625mm bone alg-26970', '2.000000-ROUTINE CHEST NON-CON-97100', '602.000000-SAG 3X3-00291', '605.000000-SAG 3X3-10651', '601.000000-COR 3X3-86740', '1.000000-SCOUT CHEST-97846']\n"
     ]
    }
   ],
   "source": [
    "from os import walk\n",
    "\n",
    "f = []\n",
    "for (dirpath, dirnames, filenames) in walk('./data'):\n",
    "    f.extend(dirnames)\n",
    "    break\n",
    "print(f)"
   ]
  },
  {
   "cell_type": "code",
   "execution_count": 49,
   "metadata": {},
   "outputs": [
    {
     "name": "stdout",
     "output_type": "stream",
     "text": [
      "['604.000000-COR 3X3-11320', '3.000000-0.625mm bone alg-26970', '2.000000-ROUTINE CHEST NON-CON-97100', '602.000000-SAG 3X3-00291', '605.000000-SAG 3X3-10651', '601.000000-COR 3X3-86740', '1.000000-SCOUT CHEST-97846']\n",
      "./data/604.000000-COR 3X3-11320\n"
     ]
    },
    {
     "name": "stderr",
     "output_type": "stream",
     "text": [
      "WARNING: In /tmp/SimpleITK-build/ITK-prefix/include/ITK-5.2/itkImageSeriesReader.hxx, line 480\n",
      "ImageSeriesReader (0x10cc06050): Non uniform sampling or missing slices detected,  maximum nonuniformity:176.649\n",
      "\n"
     ]
    },
    {
     "name": "stdout",
     "output_type": "stream",
     "text": [
      "111\n",
      "./data/3.000000-0.625mm bone alg-26970\n",
      "510\n",
      "./data/2.000000-ROUTINE CHEST NON-CON-97100\n",
      "255\n",
      "./data/602.000000-SAG 3X3-00291\n"
     ]
    },
    {
     "name": "stderr",
     "output_type": "stream",
     "text": [
      "WARNING: In /tmp/SimpleITK-build/ITK-prefix/include/ITK-5.2/itkImageSeriesReader.hxx, line 480\n",
      "ImageSeriesReader (0x12e6c9620): Non uniform sampling or missing slices detected,  maximum nonuniformity:176.686\n",
      "\n"
     ]
    },
    {
     "name": "stdout",
     "output_type": "stream",
     "text": [
      "121\n",
      "./data/605.000000-SAG 3X3-10651\n"
     ]
    },
    {
     "name": "stderr",
     "output_type": "stream",
     "text": [
      "WARNING: In /tmp/SimpleITK-build/ITK-prefix/include/ITK-5.2/itkImageSeriesReader.hxx, line 480\n",
      "ImageSeriesReader (0x12e6c9620): Non uniform sampling or missing slices detected,  maximum nonuniformity:176.682\n",
      "\n"
     ]
    },
    {
     "name": "stdout",
     "output_type": "stream",
     "text": [
      "121\n",
      "./data/601.000000-COR 3X3-86740\n"
     ]
    },
    {
     "name": "stderr",
     "output_type": "stream",
     "text": [
      "WARNING: In /tmp/SimpleITK-build/ITK-prefix/include/ITK-5.2/itkImageSeriesReader.hxx, line 480\n",
      "ImageSeriesReader (0x12e6c9620): Non uniform sampling or missing slices detected,  maximum nonuniformity:176.653\n",
      "\n"
     ]
    },
    {
     "name": "stdout",
     "output_type": "stream",
     "text": [
      "106\n",
      "./data/1.000000-SCOUT CHEST-97846\n",
      "2\n"
     ]
    }
   ],
   "source": [
    "reader = sitk.ImageSeriesReader()\n",
    "\n",
    "def get_segementation_image(name):\n",
    "    dicom_names = reader.GetGDCMSeriesFileNames(name)\n",
    "    reader.SetFileNames(dicom_names)\n",
    "    image = reader.Execute()\n",
    "    segmentation(image)\n",
    "#     myshow(image) \n",
    "    return sitk.GetArrayFromImage(image)\n",
    "\n",
    "def segmentation(image):\n",
    "    image = sitk.GradientMagnitude(image)\n",
    "    return sitk.MorphologicalWatershed(image, level=20, markWatershedLine=True, fullyConnected=False)\n",
    "\n",
    "def get_training_data(arr):\n",
    "    print(arr)\n",
    "    training_data = []\n",
    "    first = True\n",
    "    for fn in arr:\n",
    "        path = str('./data/' + fn)\n",
    "        print(path)\n",
    "        image = get_segementation_image(path)\n",
    "        print(len(image))\n",
    "        if len(image) > 50:\n",
    "            if first:\n",
    "                training_data = [random.sample(list(image), 50)]\n",
    "                first = False\n",
    "            else:\n",
    "                training_data = np.concatenate((training_data, [random.sample(list(image), 50)]))\n",
    "        \n",
    "    return training_data\n",
    "\n",
    "training_data = get_training_data(f)\n",
    "\n",
    "\n"
   ]
  },
  {
   "cell_type": "code",
   "execution_count": null,
   "metadata": {},
   "outputs": [],
   "source": [
    "\n",
    "hl = \"./healthy_lung\"\n",
    "healthy_lung = get_segementation_image(hl)\n",
    "training_data = np.concatenate((training_data, [random.sample(list(healthy_lung), 50)]))\n",
    "print(np.shape(training_data))\n",
    "print(training_data)"
   ]
  },
  {
   "cell_type": "code",
   "execution_count": null,
   "metadata": {},
   "outputs": [],
   "source": [
    "model = models.Sequential()\n",
    "model.add(layers.Conv2D(64, (3, 3), activation='relu', input_shape=(50, 512, 512)))\n",
    "model.add(layers.MaxPooling2D((2, 2)))\n",
    "model.add(layers.Conv2D(128, (3, 3), activation='relu'))\n",
    "model.add(layers.MaxPooling2D((2, 2)))\n",
    "model.add(layers.Conv2D(128, (3, 3), activation='relu'))\n",
    "model.add(layers.Flatten())\n",
    "model.add(layers.Dense(128, activation='relu'))\n",
    "model.add(layers.Dense(64))\n",
    "model.add(layers.Dense(32))\n",
    "model.summary()"
   ]
  },
  {
   "cell_type": "code",
   "execution_count": null,
   "metadata": {},
   "outputs": [],
   "source": [
    "callback = tf.keras.callbacks.EarlyStopping(monitor='val_binary_accuracy', patience=3)\n",
    "\n",
    "model.compile(optimizer='adam',\n",
    "              loss=tf.keras.losses.BinaryCrossentropy(),\n",
    "              metrics=['binary_accuracy'])\n"
   ]
  },
  {
   "cell_type": "code",
   "execution_count": null,
   "metadata": {},
   "outputs": [],
   "source": [
    "labels = np.array([1] * (len(training_data) - 1))\n",
    "labels = np.concatenate((labels, [0]))\n",
    "print(labels)\n",
    "history = model.fit(training_data/255, labels, epochs=10, validation_data=(training_data/255, labels), callbacks=callback)"
   ]
  },
  {
   "cell_type": "code",
   "execution_count": 34,
   "metadata": {
    "scrolled": true
   },
   "outputs": [
    {
     "name": "stdout",
     "output_type": "stream",
     "text": [
      "L_ngve9m\n",
      "L_ngve9m\n",
      "L_MAYK1M\n",
      "L_MAYK1M\n",
      "L_ngve9m\n",
      "L_ngve9m\n",
      "L_ngve9m\n",
      "L_ngve9m\n",
      "L_MAYK1M\n",
      "L_MAYK1M\n",
      "L_ngve9m\n",
      "L_MAYK1M\n",
      "L_MAYK1M\n",
      "L_MAYK1M\n",
      "L_ngve9m\n",
      "L_ngve9m\n",
      "L_ngve9m\n",
      "L_mvd9bJ\n",
      "L_ngve9m\n",
      "L_ngve9m\n",
      "L_ngve9m\n",
      "L_ngve9m\n",
      "L_ngve9m\n",
      "L_ngve9m\n",
      "L_ngve9m\n",
      "L_ngve9m\n",
      "L_ngve9m\n",
      "L_ngve9m\n",
      "L_ngve9m\n",
      "L_ngve9m\n",
      "L_ngve9m\n",
      "L_ngve9m\n",
      "L_ngve9m\n",
      "L_ngve9m\n",
      "L_ngve9m\n",
      "L_ngve9m\n",
      "L_ngve9m\n",
      "L_ngve9m\n",
      "L_ngve9m\n",
      "L_ngve9m\n",
      "L_ngve9m\n",
      "L_ngve9m\n",
      "L_ngve9m\n",
      "L_ngve9m\n",
      "L_ngve9m\n",
      "L_ngve9m\n",
      "L_ngve9m\n",
      "L_ngve9m\n",
      "L_ngve9m\n",
      "L_ngve9m\n",
      "L_ngve9m\n",
      "L_ngve9m\n",
      "L_ngve9m\n",
      "L_ngve9m\n",
      "L_ngve9m\n",
      "L_ngve9m\n",
      "L_ngve9m\n",
      "L_ngve9m\n",
      "L_ngve9m\n",
      "L_ngve9m\n",
      "L_ngve9m\n",
      "L_ngve9m\n",
      "L_ngve9m\n",
      "L_ngve9m\n",
      "L_ngve9m\n",
      "L_ngve9m\n",
      "L_ngve9m\n",
      "L_ngve9m\n",
      "L_ngve9m\n",
      "L_ngve9m\n",
      "L_ngve9m\n",
      "L_ngve9m\n",
      "L_ngve9m\n",
      "L_ngve9m\n",
      "L_ngve9m\n",
      "L_ngve9m\n",
      "L_ngve9m\n",
      "L_ngve9m\n",
      "L_ngve9m\n",
      "L_ngve9m\n",
      "L_ngve9m\n",
      "L_ngve9m\n",
      "L_ngve9m\n",
      "L_ngve9m\n",
      "L_ngve9m\n",
      "L_ngve9m\n",
      "L_ngve9m\n",
      "L_ngve9m\n",
      "L_ngve9m\n",
      "L_ngve9m\n",
      "L_ngve9m\n",
      "L_ngve9m\n",
      "L_ngve9m\n",
      "L_ngve9m\n",
      "L_ngve9m\n",
      "L_ngve9m\n",
      "L_ngve9m\n",
      "L_ngve9m\n",
      "L_ngve9m\n",
      "L_ngve9m\n",
      "L_ngve9m\n",
      "L_ngve9m\n",
      "L_ngve9m\n",
      "L_ngve9m\n",
      "L_ngve9m\n",
      "L_ngve9m\n",
      "L_ngve9m\n",
      "L_ngve9m\n",
      "L_ngve9m\n",
      "L_ngve9m\n",
      "L_ngve9m\n",
      "L_ngve9m\n",
      "L_ngve9m\n",
      "L_ngve9m\n",
      "L_ngve9m\n",
      "L_ngve9m\n",
      "L_ngve9m\n",
      "L_ngve9m\n",
      "L_ngve9m\n",
      "L_ngve9m\n",
      "L_ngve9m\n",
      "L_ngve9m\n",
      "L_ngve9m\n",
      "L_ngve9m\n",
      "L_ngve9m\n",
      "L_ngve9m\n",
      "L_ngve9m\n",
      "L_ngve9m\n",
      "L_ngve9m\n",
      "L_ngve9m\n",
      "L_ngve9m\n",
      "L_ngve9m\n",
      "L_ngve9m\n",
      "L_ngve9m\n",
      "L_ngve9m\n",
      "L_ngve9m\n",
      "L_ngve9m\n",
      "L_ngve9m\n",
      "L_ngve9m\n",
      "L_ngve9m\n",
      "L_ngve9m\n",
      "L_ngve9m\n",
      "L_ngve9m\n",
      "L_ngve9m\n",
      "L_ngve9m\n",
      "L_ngve9m\n",
      "L_ngve9m\n",
      "L_ngve9m\n",
      "L_ngve9m\n",
      "L_ngve9m\n",
      "L_ngve9m\n",
      "L_ngve9m\n",
      "L_ngve9m\n",
      "L_ngve9m\n",
      "L_ngve9m\n",
      "L_ngve9m\n",
      "L_ngve9m\n",
      "L_ngve9m\n",
      "L_ngve9m\n",
      "L_ngve9m\n",
      "L_ngve9m\n",
      "L_ngve9m\n",
      "L_ngve9m\n",
      "L_ngve9m\n",
      "L_ngve9m\n",
      "L_ngve9m\n",
      "L_ngve9m\n",
      "L_ngve9m\n",
      "L_ngve9m\n",
      "L_ngve9m\n",
      "L_ngve9m\n",
      "L_ngve9m\n",
      "L_ngve9m\n",
      "L_ngve9m\n",
      "L_ngve9m\n",
      "L_ngve9m\n",
      "L_ngve9m\n",
      "L_ngve9m\n",
      "L_ngve9m\n",
      "L_ngve9m\n",
      "L_ngve9m\n",
      "L_ngve9m\n",
      "L_ngve9m\n",
      "L_ngve9m\n",
      "L_ngve9m\n",
      "L_ngve9m\n",
      "L_ngve9m\n",
      "L_ngve9m\n",
      "L_ngve9m\n",
      "L_ngve9m\n",
      "L_ngve9m\n",
      "L_ngve9m\n",
      "L_ngve9m\n",
      "L_ngve9m\n",
      "L_ngve9m\n",
      "L_ngve9m\n",
      "L_ngve9m\n",
      "L_ngve9m\n",
      "L_ngve9m\n",
      "L_ngve9m\n",
      "L_ngve9m\n",
      "L_ngve9m\n",
      "L_ngve9m\n",
      "L_ngve9m\n",
      "L_ngve9m\n",
      "L_ngve9m\n",
      "L_ngve9m\n",
      "L_ngve9m\n",
      "L_ngve9m\n",
      "L_ngve9m\n",
      "L_ngve9m\n",
      "L_ngve9m\n",
      "L_ngve9m\n",
      "L_ngve9m\n",
      "L_ngve9m\n",
      "L_ngve9m\n",
      "L_ngve9m\n",
      "L_ngve9m\n",
      "L_ngve9m\n",
      "L_ngve9m\n",
      "L_ngve9m\n",
      "L_ngve9m\n",
      "L_ngve9m\n",
      "L_ngve9m\n",
      "L_ngve9m\n",
      "L_ngve9m\n",
      "L_ngve9m\n",
      "L_ngve9m\n",
      "L_ngve9m\n",
      "L_ngve9m\n",
      "L_ngve9m\n",
      "L_ngve9m\n",
      "L_ngve9m\n",
      "L_ngve9m\n",
      "L_ngve9m\n",
      "L_ngve9m\n",
      "L_ngve9m\n",
      "L_ngve9m\n",
      "L_ngve9m\n",
      "L_ngve9m\n",
      "L_ngve9m\n",
      "L_ngve9m\n",
      "L_ngve9m\n",
      "L_ngve9m\n",
      "L_ngve9m\n",
      "L_ngve9m\n",
      "L_ngve9m\n",
      "L_ngve9m\n",
      "L_ngve9m\n",
      "L_ngve9m\n",
      "L_ngve9m\n",
      "L_ngve9m\n",
      "L_ngve9m\n",
      "L_ngve9m\n",
      "L_ngve9m\n",
      "L_ngve9m\n",
      "L_ngve9m\n",
      "L_ngve9m\n",
      "L_ngve9m\n",
      "L_ngve9m\n",
      "L_ngve9m\n",
      "L_ngve9m\n",
      "L_ngve9m\n",
      "L_ngve9m\n",
      "L_ngve9m\n",
      "L_ngve9m\n",
      "L_MAYK1M\n",
      "L_ngve9m\n",
      "L_ngve9m\n",
      "L_ngve9m\n",
      "L_ngve9m\n",
      "L_ngve9m\n",
      "L_ngve9m\n",
      "L_ngve9m\n",
      "L_ngve9m\n",
      "L_mywa8J\n",
      "L_ngve9m\n",
      "L_MAYK1M\n",
      "L_ngve9m\n",
      "L_ngve9m\n",
      "L_ngve9m\n",
      "L_ngve9m\n",
      "L_ngve9m\n",
      "L_ngve9m\n",
      "L_ngve9m\n",
      "L_ngve9m\n",
      "L_ngve9m\n",
      "L_ngve9m\n",
      "L_ngve9m\n",
      "L_ngve9m\n",
      "L_ngve9m\n",
      "L_MAYK1M\n",
      "L_ngve9m\n",
      "L_ngve9m\n",
      "L_ngve9m\n",
      "L_MAYK1M\n",
      "L_ngve9m\n",
      "L_ngve9m\n",
      "L_ngve9m\n",
      "L_ngve9m\n",
      "L_ngve9m\n",
      "L_MrAoKJ\n",
      "L_ngve9m\n",
      "L_ngve9m\n",
      "L_ngve9m\n",
      "L_ngve9m\n",
      "L_ngve9m\n",
      "L_ngve9m\n",
      "L_ngve9m\n",
      "L_ngve9m\n",
      "L_ngve9m\n",
      "L_ngve9m\n",
      "L_MAYK1M\n",
      "L_ngve9m\n",
      "L_ngve9m\n",
      "L_ngve9m\n",
      "L_ngve9m\n",
      "L_MAYK1M\n",
      "L_MAYK1M\n",
      "L_ngve9m\n",
      "L_ngve9m\n",
      "L_MAYK1M\n",
      "L_ngve9m\n",
      "L_ngve9m\n",
      "L_ngve9m\n",
      "L_ngve9m\n",
      "L_ngve9m\n",
      "L_MAYK1M\n",
      "L_ngve9m\n",
      "L_ngve9m\n",
      "L_ngve9m\n",
      "L_ngve9m\n",
      "L_ngve9m\n",
      "L_ngve9m\n",
      "L_MAYK1M\n",
      "L_MAYK1M\n",
      "L_ngve9m\n",
      "L_ngve9m\n",
      "L_ngve9m\n",
      "L_ngve9m\n",
      "L_ngve9m\n",
      "L_ngve9m\n",
      "L_ngve9m\n",
      "L_ngve9m\n",
      "L_ngve9m\n",
      "L_ngve9m\n",
      "L_ngve9m\n",
      "L_ngve9m\n",
      "L_ngve9m\n",
      "L_ngve9m\n",
      "L_ngve9m\n",
      "L_ngve9m\n",
      "L_ngve9m\n",
      "L_ngve9m\n",
      "L_ngve9m\n",
      "L_ngve9m\n",
      "L_ngve9m\n",
      "L_ngve9m\n",
      "L_MOPZwm\n",
      "L_ngve9m\n",
      "L_ngve9m\n",
      "L_ngve9m\n",
      "L_ngve9m\n",
      "L_ngve9m\n",
      "L_JV5Lln\n",
      "L_MAYK1M\n",
      "L_ngve9m\n",
      "L_ngve9m\n",
      "L_MAYK1M\n",
      "L_MAYK1M\n",
      "L_ngve9m\n",
      "L_MAYK1M\n",
      "L_MAYK1M\n",
      "L_MAYK1M\n",
      "L_MAYK1M\n",
      "L_MAYK1M\n",
      "L_MAYK1M\n",
      "L_MAYK1M\n",
      "L_MbNYXM\n",
      "L_MAYK1M\n",
      "L_MAYK1M\n",
      "L_MAYK1M\n",
      "L_MAYK1M\n",
      "L_MAYK1M\n",
      "L_M98glJ\n",
      "L_ngve9m\n"
     ]
    }
   ],
   "source": [
    "\n",
    "# list\n",
    "# print(data['labelGroups'][2])\n",
    "for i in range(0, len(data['datasets'])):\n",
    "    for j in range(0, len(data['datasets'][i]['annotations'])):\n",
    "        if '1.2.826.0.1.3680043.10.474.419639.312580455409613733097488204614' == data['datasets'][i]['annotations'][j].get('StudyInstanceUID', 0):\n",
    "            print(data['datasets'][i]['annotations'][j]['labelId'])\n",
    "    "
   ]
  },
  {
   "cell_type": "code",
   "execution_count": 4,
   "metadata": {},
   "outputs": [
    {
     "name": "stdout",
     "output_type": "stream",
     "text": [
      "id\n",
      "createdAt\n",
      "updatedAt\n",
      "name\n",
      "description\n",
      "isPrivate\n",
      "labelGroups\n",
      "datasets\n"
     ]
    }
   ],
   "source": [
    "import json\n",
    "# Opening JSON file\n",
    "f = open('MIDRC-RICORD-1a_annotations_labelgroup_all_2020-Dec-8 2.json')\n",
    " \n",
    "# returns JSON object as\n",
    "# a dictionary\n",
    "data = json.load(f)\n",
    " \n",
    "# Iterating through the json\n",
    "# list\n",
    "for i in data:\n",
    "    print(i)\n",
    " \n",
    "# Closing file\n",
    "f.close()"
   ]
  },
  {
   "cell_type": "code",
   "execution_count": 24,
   "metadata": {},
   "outputs": [
    {
     "data": {
      "text/plain": [
       "'1.2.826.0.1.3680043.10.474.3116300553210485620889426707485524974'"
      ]
     },
     "execution_count": 24,
     "metadata": {},
     "output_type": "execute_result"
    }
   ],
   "source": [
    "data['datasets'][0]['annotations'][0]['SeriesInstanceUID']"
   ]
  },
  {
   "cell_type": "code",
   "execution_count": 46,
   "metadata": {},
   "outputs": [
    {
     "data": {
      "application/vnd.jupyter.widget-view+json": {
       "model_id": "2d0fb264674f457b9ec1dcb261e45fea",
       "version_major": 2,
       "version_minor": 0
      },
      "text/plain": [
       "interactive(children=(IntSlider(value=127, description='z', max=254), Output()), _dom_classes=('widget-interac…"
      ]
     },
     "metadata": {},
     "output_type": "display_data"
    }
   ],
   "source": [
    "dicom_names = reader.GetGDCMSeriesFileNames('./data/2.000000-ROUTINE CHEST NON-CON-97100/')\n",
    "reader.SetFileNames(dicom_names)\n",
    "imagess = reader.Execute()\n",
    "myshow(imagess)"
   ]
  },
  {
   "cell_type": "code",
   "execution_count": 34,
   "metadata": {},
   "outputs": [
    {
     "data": {
      "application/vnd.jupyter.widget-view+json": {
       "model_id": "3008238dcbbb46c2b9082fbd0a8b87d2",
       "version_major": 2,
       "version_minor": 0
      },
      "text/plain": [
       "interactive(children=(IntSlider(value=127, description='z', max=254), Output()), _dom_classes=('widget-interac…"
      ]
     },
     "metadata": {},
     "output_type": "display_data"
    }
   ],
   "source": [
    "feature_img = sitk.GradientMagnitude(imagess)\n",
    "myshow(feature_img)"
   ]
  },
  {
   "cell_type": "code",
   "execution_count": 35,
   "metadata": {},
   "outputs": [
    {
     "data": {
      "application/vnd.jupyter.widget-view+json": {
       "model_id": "9154a9dbebe04f0f890cdc3e7d941044",
       "version_major": 2,
       "version_minor": 0
      },
      "text/plain": [
       "interactive(children=(IntSlider(value=127, description='z', max=254), Output()), _dom_classes=('widget-interac…"
      ]
     },
     "metadata": {},
     "output_type": "display_data"
    }
   ],
   "source": [
    "ws_img = sitk.MorphologicalWatershed(feature_img, level=30, markWatershedLine=True, fullyConnected=False)\n",
    "myshow(sitk.LabelToRGB(ws_img), \"Watershed Over Segmentation\")"
   ]
  },
  {
   "cell_type": "code",
   "execution_count": 36,
   "metadata": {},
   "outputs": [
    {
     "data": {
      "application/vnd.jupyter.widget-view+json": {
       "model_id": "c1942409809d4f4482f86c8cc5bc5722",
       "version_major": 2,
       "version_minor": 0
      },
      "text/plain": [
       "interactive(children=(IntSlider(value=127, description='z', max=254), Output()), _dom_classes=('widget-interac…"
      ]
     },
     "metadata": {},
     "output_type": "display_data"
    }
   ],
   "source": [
    "ws_img = sitk.MorphologicalWatershed(feature_img, level=50, markWatershedLine=True, fullyConnected=False)\n",
    "myshow(sitk.LabelToRGB(ws_img), \"Watershed Over Segmentation\")"
   ]
  },
  {
   "cell_type": "code",
   "execution_count": 37,
   "metadata": {},
   "outputs": [
    {
     "data": {
      "application/vnd.jupyter.widget-view+json": {
       "model_id": "a61fb924a2e94172b38fe62ceae5e5e4",
       "version_major": 2,
       "version_minor": 0
      },
      "text/plain": [
       "interactive(children=(IntSlider(value=127, description='z', max=254), Output()), _dom_classes=('widget-interac…"
      ]
     },
     "metadata": {},
     "output_type": "display_data"
    }
   ],
   "source": [
    "ws_img = sitk.MorphologicalWatershed(feature_img, level=20, markWatershedLine=True, fullyConnected=False)\n",
    "myshow(sitk.LabelToRGB(ws_img), \"Watershed Over Segmentation\")"
   ]
  },
  {
   "cell_type": "code",
   "execution_count": 38,
   "metadata": {},
   "outputs": [
    {
     "data": {
      "application/vnd.jupyter.widget-view+json": {
       "model_id": "272b9d88913b44ad8dcf85e5604abde3",
       "version_major": 2,
       "version_minor": 0
      },
      "text/plain": [
       "interactive(children=(IntSlider(value=127, description='z', max=254), Output()), _dom_classes=('widget-interac…"
      ]
     },
     "metadata": {},
     "output_type": "display_data"
    }
   ],
   "source": [
    "ws_img = sitk.MorphologicalWatershed(feature_img, level=10, markWatershedLine=True, fullyConnected=False)\n",
    "myshow(sitk.LabelToRGB(ws_img), \"Watershed Over Segmentation\")"
   ]
  },
  {
   "cell_type": "code",
   "execution_count": null,
   "metadata": {},
   "outputs": [],
   "source": []
  }
 ],
 "metadata": {
  "kernelspec": {
   "display_name": "Python 3 (ipykernel)",
   "language": "python",
   "name": "python3"
  },
  "language_info": {
   "codemirror_mode": {
    "name": "ipython",
    "version": 3
   },
   "file_extension": ".py",
   "mimetype": "text/x-python",
   "name": "python",
   "nbconvert_exporter": "python",
   "pygments_lexer": "ipython3",
   "version": "3.8.11"
  }
 },
 "nbformat": 4,
 "nbformat_minor": 4
}
